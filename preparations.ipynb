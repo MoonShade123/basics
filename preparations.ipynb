{
 "cells": [
  {
   "metadata": {},
   "cell_type": "markdown",
   "source": "Work with numbers",
   "id": "2d3d6e3787d28fa1"
  },
  {
   "metadata": {},
   "cell_type": "code",
   "source": [
    "import sys\n",
    "\n",
    "number = 1\n",
    "number2 = 2\n",
    "result = number + number2\n",
    "num_1, num_2 = 1, 2\n",
    "print(result)\n",
    "print(num_1, num_2)\n",
    "\n",
    "swap1, swap2 = 3, 4\n",
    "swap1, swap2 = swap2, swap1 + 2\n",
    "print(swap1, swap2)\n",
    "\n",
    "swap2 = swap2 - swap2\n",
    "swap2 += 2\n",
    "print(swap1, swap2)\n",
    "\n",
    "z, *x, c = [1, 2, 3, 4, 5]\n",
    "print(z, x, c)"
   ],
   "id": "ae11dc44c766edd0",
   "outputs": [],
   "execution_count": null
  },
  {
   "metadata": {},
   "cell_type": "markdown",
   "source": "Work with types (NoneType - for initialization variable, Integer, float, complex, str, list, tuple, set, frozenset, dict, bool)",
   "id": "d6ff74ce002e26be"
  },
  {
   "metadata": {
    "ExecuteTime": {
     "end_time": "2024-11-27T13:47:19.587897Z",
     "start_time": "2024-11-27T13:47:19.585302Z"
    }
   },
   "cell_type": "code",
   "source": [
    "a, b, c, d, e, f = None, 0, 0., 0+0j, [], (),  \n",
    "print(sys.getsizeof(a), sys.getsizeof(b), sys.getsizeof(c), sys.getsizeof(d), sys.getsizeof(e), sys.getsizeof(f))"
   ],
   "id": "99e68cffd61d3d38",
   "outputs": [
    {
     "name": "stdout",
     "output_type": "stream",
     "text": [
      "16 28 24 32 56 40\n"
     ]
    }
   ],
   "execution_count": 34
  },
  {
   "metadata": {},
   "cell_type": "code",
   "source": [
    "a = None\n",
    "print(type(a))\n",
    "\n",
    "a = 1\n",
    "print(type(a))\n",
    "\n",
    "a = 1.\n",
    "print(type(a))\n",
    "\n",
    "a = 1 + 1j\n",
    "print(type(a))\n",
    "\n",
    "a = \"1\"\n",
    "print(type(a))\n",
    "\n",
    "a = [1, 2]\n",
    "print(type(a))\n",
    "\n",
    "a = (1, 2, \"3\")\n",
    "print(type(a))\n",
    "\n",
    "a = {1, 2}\n",
    "print(type(a))\n",
    "\n",
    "a = {0: 1, 1: 2}\n",
    "print(type(a))\n",
    "\n",
    "a = False\n",
    "print(type(a))\n",
    "\n",
    "someString = \"123\"\n",
    "someString += \"456\"\n",
    "# someString += 123 Mistake use str() function\n",
    "print(someString)\n",
    "\n",
    "# userValue = input(\"Input something: \")\n",
    "userValue = 1\n",
    "print(\"User passed: \", userValue, \"Type of value: \", type(userValue))\n",
    "addValueToInt = int(userValue) * 2\n",
    "print(\"After converting to int: \", addValueToInt)"
   ],
   "id": "94cce95668436d4f",
   "outputs": [],
   "execution_count": null
  },
  {
   "metadata": {},
   "cell_type": "markdown",
   "source": "Branching operators (if, elif, else) - условные операторы",
   "id": "5324004da1f02b4b"
  },
  {
   "metadata": {},
   "cell_type": "code",
   "source": [
    "if True:\n",
    "    print(\"if\")\n",
    "elif False:\n",
    "    print(\"elif\")\n",
    "else:\n",
    "    print(\"else\")\n",
    "\n",
    "x = 0\n",
    "\n",
    "if x == 0:\n",
    "    x += 1\n",
    "    print(x)\n",
    "\n",
    "x = 5\n",
    "\n",
    "if x == 0:\n",
    "    print(\"x equals to 0\")\n",
    "elif type(x) is int or type(x) is float:\n",
    "    print(\"x equals to int or float\")\n",
    "else:\n",
    "    print(\"x not zero and not equals to int or float\")\n",
    "\n",
    "import os\n",
    "\n",
    "site = input(\"Type the site name: \")\n",
    "\n",
    "if \"https://\" in site:\n",
    "    os.system(\"start \" + site)\n",
    "    print(\"if\")\n",
    "\n",
    "elif \"www.\" in site:\n",
    "    site = \"https://\" + site\n",
    "    os.system(\"start \" + site)\n",
    "    print(\"elif\")\n",
    "\n",
    "else:\n",
    "    site = \"http://www.\" + site\n",
    "    os.system(\"start \" + site)\n",
    "    print(\"else\")\n"
   ],
   "id": "c5c67f741ff008f2",
   "outputs": [],
   "execution_count": null
  },
  {
   "metadata": {},
   "cell_type": "markdown",
   "source": "Cycle while",
   "id": "dad87c58ca5007d6"
  },
  {
   "metadata": {},
   "cell_type": "code",
   "source": [
    "x = 0\n",
    "\n",
    "while x < 5:\n",
    "    print(x)\n",
    "    x += 1\n",
    "else:\n",
    "    print(x)\n",
    "\n",
    "while True:\n",
    "    count = 0\n",
    "    factorialNumber = int(input(\"Type the factorial number: \"))\n",
    "    result = 1\n",
    "    \n",
    "    while count < factorialNumber:\n",
    "        count += 1\n",
    "        result *= count\n",
    "        \n",
    "    else:\n",
    "        print(result)\n",
    "        break\n"
   ],
   "id": "180dda675cba35da",
   "outputs": [],
   "execution_count": null
  },
  {
   "metadata": {},
   "cell_type": "code",
   "source": [
    "resultString = ''\n",
    "\n",
    "while len(resultString) < 5:\n",
    "        addString = input(\"Type the string to add: \")\n",
    "        \n",
    "        if addString == \"o\":\n",
    "            continue\n",
    "            \n",
    "        if addString == \"l\":\n",
    "            break\n",
    "            \n",
    "        resultString += addString\n",
    "        \n",
    "else:\n",
    "    print(resultString)"
   ],
   "id": "5e7e84bd4a187cab",
   "outputs": [],
   "execution_count": null
  },
  {
   "metadata": {},
   "cell_type": "code",
   "source": [
    "import os\n",
    "import time\n",
    "\n",
    "os.system(\"start \" + \"www.google.com\")\n",
    "\n",
    "time.sleep(5)\n",
    "\n",
    "os.system(\"start \" + \"www.google.com\")"
   ],
   "id": "813fe47df6e5e324",
   "outputs": [],
   "execution_count": null
  },
  {
   "metadata": {},
   "cell_type": "markdown",
   "source": "Cycle FOR",
   "id": "b897cae6e3e3fa2e"
  },
  {
   "metadata": {},
   "cell_type": "code",
   "source": [
    "someString = \"some string\"\n",
    "counter = 0\n",
    "\n",
    "for i in someString:\n",
    "    print(i)\n",
    "    \n",
    "    if i == \"o\":\n",
    "        print(\"some string contains o\")\n",
    "        counter += 1\n",
    "        \n",
    "else:\n",
    "    print(\"end of cycle,\", \"some string contains o\", str(counter), \"time(s)\", sep=\" \")\n",
    "    \n",
    "print(\"end\")"
   ],
   "id": "eba999078a60955a",
   "outputs": [],
   "execution_count": null
  },
  {
   "metadata": {},
   "cell_type": "code",
   "source": [
    "russianAlphabet = \"абвгдежз\"\n",
    "englishAlphabet = \"abcdefghijklm\"\n",
    "inputString = input(\"Type the string: \")\n",
    "countRussianLetters = 0\n",
    "countEnglishLetters = 0\n",
    "\n",
    "for letter in inputString:\n",
    "    if letter in russianAlphabet:\n",
    "        countRussianLetters += 1\n",
    "    \n",
    "    if letter in englishAlphabet:\n",
    "        countEnglishLetters += 1\n",
    "        \n",
    "print(\"Input string\", \"(\", inputString, \")\", \"contains: \", countRussianLetters, \"russian letters,\", countEnglishLetters, \"english letters\", sep=\" \")\n",
    "        "
   ],
   "id": "9774e130bcc784a7",
   "outputs": [],
   "execution_count": null
  },
  {
   "metadata": {},
   "cell_type": "code",
   "source": [
    "englishAlphabet = \"abcdefghijklmnopqrstqvwxyz\"\n",
    "inputString = input(\"Type the string: \")\n",
    "counter = 0\n",
    "\n",
    "for letterInEnglishAlphabet in englishAlphabet:\n",
    "    counter = 0\n",
    "    for letterInInputString in inputString:\n",
    "        if letterInInputString == letterInEnglishAlphabet:\n",
    "            counter += 1\n",
    "            \n",
    "    if counter > 0:\n",
    "        print(\"Input string contain letter\", letterInEnglishAlphabet, \":\", counter, \"time(s)\", sep=\" \")\n",
    "        "
   ],
   "id": "5081aeb5d495148d",
   "outputs": [],
   "execution_count": null
  },
  {
   "metadata": {},
   "cell_type": "code",
   "source": [
    "start = 0\n",
    "stop = 10\n",
    "step = 2\n",
    "\n",
    "for i in range(start, stop, step):\n",
    "    print(i)"
   ],
   "id": "b684cfdb57f362a8",
   "outputs": [],
   "execution_count": null
  },
  {
   "metadata": {},
   "cell_type": "markdown",
   "source": "Lists",
   "id": "bc19a1dd756e047d"
  },
  {
   "metadata": {
    "ExecuteTime": {
     "end_time": "2024-12-02T13:50:12.845654Z",
     "start_time": "2024-12-02T13:50:12.843308Z"
    }
   },
   "cell_type": "code",
   "source": [
    "inputList = [i for i in range(10)]\n",
    "emptyList = []\n",
    "sliceList = inputList[3:]\n",
    "\n",
    "for i in inputList:\n",
    "    if i % 2 == 0:\n",
    "        emptyList.append(i)\n",
    "        inputList.remove(i)\n",
    "\n",
    "else:\n",
    "    print(inputList)\n",
    "    print(emptyList)\n",
    "    print(sliceList)\n",
    "\n",
    "# x = [1, 2, 3, 4, 5]\n",
    "# x.append(1)\n",
    "# x.insert(0, 1)\n",
    "# print(x.count(1))\n",
    "# x.sort()\n",
    "# x.reverse()\n",
    "# y = x.pop()\n",
    "# print(y)\n",
    "# x.remove(1)\n",
    "# print(x)\n",
    "# x.clear()\n",
    "# x.extend([1, 2, 3])\n",
    "# z = x.copy()\n",
    "# print(x)\n",
    "# print(z)\n"
   ],
   "id": "47bcaccddd78636f",
   "outputs": [
    {
     "name": "stdout",
     "output_type": "stream",
     "text": [
      "[1, 3, 5, 7, 9]\n",
      "[0, 2, 4, 6, 8]\n",
      "[3, 4, 5, 6, 7, 8, 9]\n"
     ]
    }
   ],
   "execution_count": 53
  },
  {
   "metadata": {},
   "cell_type": "markdown",
   "source": "Tuples",
   "id": "1cec2c3648b0b795"
  },
  {
   "metadata": {
    "ExecuteTime": {
     "end_time": "2024-12-03T14:43:30.088294Z",
     "start_time": "2024-12-03T14:43:30.085639Z"
    }
   },
   "cell_type": "code",
   "source": [
    "firstTuple = (1, 2, 3, 4, 5, 6)\n",
    "singleValueTuple = (1,)\n",
    "y = []\n",
    "\n",
    "for i in range(len(firstTuple)):\n",
    "    y.append(firstTuple[i] + 3)\n",
    "\n",
    "else:\n",
    "    y = tuple(y)\n",
    "    z = y\n",
    "    z += (11, 12)\n",
    "    \n",
    "print(y, z)\n",
    "print(singleValueTuple)\n"
   ],
   "id": "8c0bc1ff56847089",
   "outputs": [
    {
     "name": "stdout",
     "output_type": "stream",
     "text": [
      "(4, 5, 6, 7, 8, 9) (4, 5, 6, 7, 8, 9, 11, 12)\n",
      "(1,)\n"
     ]
    }
   ],
   "execution_count": 22
  },
  {
   "metadata": {},
   "cell_type": "markdown",
   "source": "File parser",
   "id": "5b6141f159e46400"
  },
  {
   "metadata": {
    "ExecuteTime": {
     "end_time": "2024-12-09T11:56:25.051143Z",
     "start_time": "2024-12-09T11:56:24.954220Z"
    }
   },
   "cell_type": "code",
   "source": [
    "import os\n",
    "from pathlib import Path\n",
    "\n",
    "DIRECTORY = Path.cwd()\n",
    "EXTENSIONS = {\".ipynb\",}\n",
    "fileList = []\n",
    "\n",
    "for address, dirs, files in os.walk(DIRECTORY, topdown=True):\n",
    "    for file in files:\n",
    "        ext = os.path.splitext(file)[1]\n",
    "        if ext in EXTENSIONS:\n",
    "            fileList.append(os.path.join(address, file))\n",
    "else:\n",
    "    print(fileList)\n",
    "    "
   ],
   "id": "f29c235d7e0f8dc8",
   "outputs": [
    {
     "name": "stdout",
     "output_type": "stream",
     "text": [
      "['C:\\\\Users\\\\intel\\\\PycharmProjects\\\\testProjectPy\\\\preparations.ipynb']\n"
     ]
    }
   ],
   "execution_count": 1
  },
  {
   "metadata": {},
   "cell_type": "markdown",
   "source": "Functions (def)",
   "id": "3ebc6d2089376178"
  },
  {
   "metadata": {
    "ExecuteTime": {
     "end_time": "2024-12-09T12:06:13.329375Z",
     "start_time": "2024-12-09T12:06:13.326846Z"
    }
   },
   "cell_type": "code",
   "source": [
    "def foo():\n",
    "    print(\"foo\")\n",
    "    x = 7 + z\n",
    "    return x\n",
    "    \n",
    "def bar():\n",
    "    print(\"bar\")\n",
    "    x = 10 + z\n",
    "    return x\n",
    "    \n",
    "z = 1\n",
    "\n",
    "print(foo())\n",
    "print(bar())\n",
    "    "
   ],
   "id": "ec1d6ba1eb4fb77f",
   "outputs": [
    {
     "name": "stdout",
     "output_type": "stream",
     "text": [
      "foo\n",
      "8\n",
      "bar\n",
      "11\n"
     ]
    }
   ],
   "execution_count": 2
  },
  {
   "metadata": {
    "ExecuteTime": {
     "end_time": "2024-12-09T12:37:49.181357Z",
     "start_time": "2024-12-09T12:37:49.179009Z"
    }
   },
   "cell_type": "code",
   "source": [
    "def count_len_of_list(given_list: list, count = 0):\n",
    "    for i in given_list:\n",
    "        count += 1\n",
    "\n",
    "    return count\n",
    "\n",
    "someList = [1, 2, 3, 4, 5, 6]\n",
    "\n",
    "print(count_len_of_list(someList))\n",
    "    "
   ],
   "id": "8946e06bcd8bee08",
   "outputs": [
    {
     "name": "stdout",
     "output_type": "stream",
     "text": [
      "6\n"
     ]
    }
   ],
   "execution_count": 6
  }
 ],
 "metadata": {
  "kernelspec": {
   "display_name": "Python 3",
   "language": "python",
   "name": "python3"
  },
  "language_info": {
   "codemirror_mode": {
    "name": "ipython",
    "version": 2
   },
   "file_extension": ".py",
   "mimetype": "text/x-python",
   "name": "python",
   "nbconvert_exporter": "python",
   "pygments_lexer": "ipython2",
   "version": "2.7.6"
  }
 },
 "nbformat": 4,
 "nbformat_minor": 5
}
