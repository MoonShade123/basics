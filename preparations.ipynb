{
 "cells": [
  {
   "metadata": {},
   "cell_type": "markdown",
   "source": "Work with numbers",
   "id": "2d3d6e3787d28fa1"
  },
  {
   "metadata": {},
   "cell_type": "code",
   "source": [
    "import sys\n",
    "\n",
    "number = 1\n",
    "number2 = 2\n",
    "result = number + number2\n",
    "num_1, num_2 = 1, 2\n",
    "print(result)\n",
    "print(num_1, num_2)\n",
    "\n",
    "swap1, swap2 = 3, 4\n",
    "swap1, swap2 = swap2, swap1 + 2\n",
    "print(swap1, swap2)\n",
    "\n",
    "swap2 = swap2 - swap2\n",
    "swap2 += 2\n",
    "print(swap1, swap2)\n",
    "\n",
    "z, *x, c = [1, 2, 3, 4, 5]\n",
    "print(z, x, c)"
   ],
   "id": "ae11dc44c766edd0",
   "outputs": [],
   "execution_count": null
  },
  {
   "metadata": {},
   "cell_type": "markdown",
   "source": "Work with types (NoneType - for initialization variable, Integer, float, complex, str, list, tuple, set, frozenset, dict, bool)",
   "id": "d6ff74ce002e26be"
  },
  {
   "metadata": {
    "ExecuteTime": {
     "end_time": "2024-11-27T13:47:19.587897Z",
     "start_time": "2024-11-27T13:47:19.585302Z"
    }
   },
   "cell_type": "code",
   "source": [
    "a, b, c, d, e, f = None, 0, 0., 0+0j, [], (),  \n",
    "print(sys.getsizeof(a), sys.getsizeof(b), sys.getsizeof(c), sys.getsizeof(d), sys.getsizeof(e), sys.getsizeof(f))"
   ],
   "id": "99e68cffd61d3d38",
   "outputs": [
    {
     "name": "stdout",
     "output_type": "stream",
     "text": [
      "16 28 24 32 56 40\n"
     ]
    }
   ],
   "execution_count": 34
  },
  {
   "metadata": {},
   "cell_type": "code",
   "source": [
    "a = None\n",
    "print(type(a))\n",
    "\n",
    "a = 1\n",
    "print(type(a))\n",
    "\n",
    "a = 1.\n",
    "print(type(a))\n",
    "\n",
    "a = 1 + 1j\n",
    "print(type(a))\n",
    "\n",
    "a = \"1\"\n",
    "print(type(a))\n",
    "\n",
    "a = [1, 2]\n",
    "print(type(a))\n",
    "\n",
    "a = (1, 2, \"3\")\n",
    "print(type(a))\n",
    "\n",
    "a = {1, 2}\n",
    "print(type(a))\n",
    "\n",
    "a = {0: 1, 1: 2}\n",
    "print(type(a))\n",
    "\n",
    "a = False\n",
    "print(type(a))\n",
    "\n",
    "someString = \"123\"\n",
    "someString += \"456\"\n",
    "# someString += 123 Mistake use str() function\n",
    "print(someString)\n",
    "\n",
    "# userValue = input(\"Input something: \")\n",
    "userValue = 1\n",
    "print(\"User passed: \", userValue, \"Type of value: \", type(userValue))\n",
    "addValueToInt = int(userValue) * 2\n",
    "print(\"After converting to int: \", addValueToInt)"
   ],
   "id": "94cce95668436d4f",
   "outputs": [],
   "execution_count": null
  },
  {
   "metadata": {},
   "cell_type": "markdown",
   "source": "Branching operators (if, elif, else) - условные операторы",
   "id": "5324004da1f02b4b"
  },
  {
   "metadata": {},
   "cell_type": "code",
   "source": [
    "if True:\n",
    "    print(\"if\")\n",
    "elif False:\n",
    "    print(\"elif\")\n",
    "else:\n",
    "    print(\"else\")\n",
    "\n",
    "x = 0\n",
    "\n",
    "if x == 0:\n",
    "    x += 1\n",
    "    print(x)\n",
    "\n",
    "x = 5\n",
    "\n",
    "if x == 0:\n",
    "    print(\"x equals to 0\")\n",
    "elif type(x) is int or type(x) is float:\n",
    "    print(\"x equals to int or float\")\n",
    "else:\n",
    "    print(\"x not zero and not equals to int or float\")\n",
    "\n",
    "import os\n",
    "\n",
    "site = input(\"Type the site name: \")\n",
    "\n",
    "if \"https://\" in site:\n",
    "    os.system(\"start \" + site)\n",
    "    print(\"if\")\n",
    "\n",
    "elif \"www.\" in site:\n",
    "    site = \"https://\" + site\n",
    "    os.system(\"start \" + site)\n",
    "    print(\"elif\")\n",
    "\n",
    "else:\n",
    "    site = \"http://www.\" + site\n",
    "    os.system(\"start \" + site)\n",
    "    print(\"else\")\n"
   ],
   "id": "c5c67f741ff008f2",
   "outputs": [],
   "execution_count": null
  },
  {
   "metadata": {},
   "cell_type": "markdown",
   "source": "Cycle while",
   "id": "dad87c58ca5007d6"
  },
  {
   "metadata": {},
   "cell_type": "code",
   "source": [
    "x = 0\n",
    "\n",
    "while x < 5:\n",
    "    print(x)\n",
    "    x += 1\n",
    "else:\n",
    "    print(x)\n",
    "\n",
    "while True:\n",
    "    count = 0\n",
    "    factorialNumber = int(input(\"Type the factorial number: \"))\n",
    "    result = 1\n",
    "    \n",
    "    while count < factorialNumber:\n",
    "        count += 1\n",
    "        result *= count\n",
    "        \n",
    "    else:\n",
    "        print(result)\n",
    "        break\n"
   ],
   "id": "180dda675cba35da",
   "outputs": [],
   "execution_count": null
  },
  {
   "metadata": {},
   "cell_type": "code",
   "source": [
    "resultString = ''\n",
    "\n",
    "while len(resultString) < 5:\n",
    "        addString = input(\"Type the string to add: \")\n",
    "        \n",
    "        if addString == \"o\":\n",
    "            continue\n",
    "            \n",
    "        if addString == \"l\":\n",
    "            break\n",
    "            \n",
    "        resultString += addString\n",
    "        \n",
    "else:\n",
    "    print(resultString)"
   ],
   "id": "5e7e84bd4a187cab",
   "outputs": [],
   "execution_count": null
  },
  {
   "metadata": {},
   "cell_type": "code",
   "source": [
    "import os\n",
    "import time\n",
    "\n",
    "os.system(\"start \" + \"www.google.com\")\n",
    "\n",
    "time.sleep(5)\n",
    "\n",
    "os.system(\"start \" + \"www.google.com\")"
   ],
   "id": "813fe47df6e5e324",
   "outputs": [],
   "execution_count": null
  },
  {
   "metadata": {},
   "cell_type": "markdown",
   "source": "Cycle FOR",
   "id": "b897cae6e3e3fa2e"
  },
  {
   "metadata": {},
   "cell_type": "code",
   "source": [
    "someString = \"some string\"\n",
    "counter = 0\n",
    "\n",
    "for i in someString:\n",
    "    print(i)\n",
    "    \n",
    "    if i == \"o\":\n",
    "        print(\"some string contains o\")\n",
    "        counter += 1\n",
    "        \n",
    "else:\n",
    "    print(\"end of cycle,\", \"some string contains o\", str(counter), \"time(s)\", sep=\" \")\n",
    "    \n",
    "print(\"end\")"
   ],
   "id": "eba999078a60955a",
   "outputs": [],
   "execution_count": null
  },
  {
   "metadata": {},
   "cell_type": "code",
   "source": [
    "russianAlphabet = \"абвгдежз\"\n",
    "englishAlphabet = \"abcdefghijklm\"\n",
    "inputString = input(\"Type the string: \")\n",
    "countRussianLetters = 0\n",
    "countEnglishLetters = 0\n",
    "\n",
    "for letter in inputString:\n",
    "    if letter in russianAlphabet:\n",
    "        countRussianLetters += 1\n",
    "    \n",
    "    if letter in englishAlphabet:\n",
    "        countEnglishLetters += 1\n",
    "        \n",
    "print(\"Input string\", \"(\", inputString, \")\", \"contains: \", countRussianLetters, \"russian letters,\", countEnglishLetters, \"english letters\", sep=\" \")\n",
    "        "
   ],
   "id": "9774e130bcc784a7",
   "outputs": [],
   "execution_count": null
  },
  {
   "metadata": {},
   "cell_type": "code",
   "source": [
    "englishAlphabet = \"abcdefghijklmnopqrstqvwxyz\"\n",
    "inputString = input(\"Type the string: \")\n",
    "counter = 0\n",
    "\n",
    "for letterInEnglishAlphabet in englishAlphabet:\n",
    "    counter = 0\n",
    "    for letterInInputString in inputString:\n",
    "        if letterInInputString == letterInEnglishAlphabet:\n",
    "            counter += 1\n",
    "            \n",
    "    if counter > 0:\n",
    "        print(\"Input string contain letter\", letterInEnglishAlphabet, \":\", counter, \"time(s)\", sep=\" \")\n",
    "        "
   ],
   "id": "5081aeb5d495148d",
   "outputs": [],
   "execution_count": null
  },
  {
   "metadata": {},
   "cell_type": "code",
   "source": [
    "start = 0\n",
    "stop = 10\n",
    "step = 2\n",
    "\n",
    "for i in range(start, stop, step):\n",
    "    print(i)"
   ],
   "id": "b684cfdb57f362a8",
   "outputs": [],
   "execution_count": null
  },
  {
   "metadata": {},
   "cell_type": "markdown",
   "source": "Lists",
   "id": "bc19a1dd756e047d"
  },
  {
   "metadata": {
    "ExecuteTime": {
     "end_time": "2024-11-27T13:30:08.143312Z",
     "start_time": "2024-11-27T13:30:08.141526Z"
    }
   },
   "cell_type": "code",
   "source": [
    "a = [i for i in range(3)]\n",
    "print(a)"
   ],
   "id": "47bcaccddd78636f",
   "outputs": [
    {
     "name": "stdout",
     "output_type": "stream",
     "text": [
      "[0, 1, 2]\n"
     ]
    }
   ],
   "execution_count": 27
  }
 ],
 "metadata": {
  "kernelspec": {
   "display_name": "Python 3",
   "language": "python",
   "name": "python3"
  },
  "language_info": {
   "codemirror_mode": {
    "name": "ipython",
    "version": 2
   },
   "file_extension": ".py",
   "mimetype": "text/x-python",
   "name": "python",
   "nbconvert_exporter": "python",
   "pygments_lexer": "ipython2",
   "version": "2.7.6"
  }
 },
 "nbformat": 4,
 "nbformat_minor": 5
}
